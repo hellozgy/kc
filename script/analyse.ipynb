{
 "cells": [
  {
   "cell_type": "code",
   "execution_count": 9,
   "metadata": {},
   "outputs": [],
   "source": [
    "# 统计词频\n",
    "def statis(src, words):\n",
    "    with open(src, 'r', encoding='utf-8') as f:\n",
    "        for line in f:\n",
    "            for word in line.lower().split():\n",
    "                words[word] = words.get(word, 0) + 1\n",
    "    return words\n",
    "words = dict()\n",
    "words = statis('../input/train.csv', words)\n",
    "words = statis('../input/test.csv', words)\n",
    "with open('../input/word.csv', 'w', encoding='utf-8') as fw:\n",
    "    for k,v in sorted(words.items(), key=lambda x:(x[1], len(x[0])), reverse=True):\n",
    "        fw.write('{} {}\\n'.format(k, v))"
   ]
  },
  {
   "cell_type": "code",
   "execution_count": 2,
   "metadata": {},
   "outputs": [
    {
     "name": "stdout",
     "output_type": "stream",
     "text": [
      "305\n"
     ]
    }
   ],
   "source": [
    "import pandas as pd\n",
    "\n",
    "train = '../input/train.csv'\n",
    "train = pd.read_csv(train)\n",
    "print(train['threat'].sum())"
   ]
  },
  {
   "cell_type": "code",
   "execution_count": 35,
   "metadata": {},
   "outputs": [
    {
     "name": "stdout",
     "output_type": "stream",
     "text": [
      "322552\n",
      "5.1807894541\n",
      "3.99947270289\n"
     ]
    },
    {
     "data": {
      "image/png": "[encoded data removed]",
      "text/plain": [
       "<matplotlib.figure.Figure at 0x15fffeb8>"
      ]
     },
     "metadata": {},
     "output_type": "display_data"
    }
   ],
   "source": [
    "import re,os\n",
    "import numpy as np\n",
    "import pylab as pl\n",
    "# 统计句子数分布\n",
    "os.system('rm ../input/long.csv')\n",
    "def statis(src, sents):\n",
    "    with open(src, 'r', encoding='utf-8') as f, open('../input/long.csv', 'a', encoding='utf-8') as fw:\n",
    "        for num, line in enumerate(f):\n",
    "            leng = len(re.split('[,.?!]', line))\n",
    "            if leng<=15:\n",
    "                sents.append(leng)\n",
    "            else:\n",
    "                leng = len(re.split('[.?!]', line))\n",
    "                if leng<=15:\n",
    "                    sents.append(leng)\n",
    "                else:\n",
    "                    leng = len(re.split('[?!]', line))\n",
    "                    if leng<=15:\n",
    "                        sents.append(leng)\n",
    "                    else:\n",
    "                        fw.write(line.strip()+'\\n')\n",
    "    return sents\n",
    "sents = []\n",
    "sents = statis('../input/train_data_bpe.csv', sents)\n",
    "sents = statis('../input/test_data_bpe.csv', sents)\n",
    "s = np.asarray(sents)\n",
    "print(len(s))\n",
    "print(np.mean(s))\n",
    "print(np.std(s))\n",
    "pl.hist(s)\n",
    "pl.show()"
   ]
  },
  {
   "cell_type": "code",
   "execution_count": null,
   "metadata": {
    "collapsed": true
   },
   "outputs": [],
   "source": []
  }
 ],
 "metadata": {
  "kernelspec": {
   "display_name": "Python 3",
   "language": "python",
   "name": "python3"
  },
  "language_info": {
   "codemirror_mode": {
    "name": "ipython",
    "version": 3
   },
   "file_extension": ".py",
   "mimetype": "text/x-python",
   "name": "python",
   "nbconvert_exporter": "python",
   "pygments_lexer": "ipython3",
   "version": "3.6.3"
  }
 },
 "nbformat": 4,
 "nbformat_minor": 2
}
