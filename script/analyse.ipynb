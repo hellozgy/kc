{
 "cells": [
  {
   "cell_type": "code",
   "execution_count": 32,
   "metadata": {},
   "outputs": [],
   "source": [
    "# 统计词频\n",
    "def statis(src, words):\n",
    "    with open(src, 'r', encoding='utf-8') as f:\n",
    "        for line in f:\n",
    "            for word in line.lower().split():\n",
    "                words[word] = words.get(word, 0) + 1\n",
    "    return words\n",
    "words = dict()\n",
    "words = statis('../input/train_data_bpe.csv', words)\n",
    "words = statis('../input/test_data_bpe.csv', words)\n",
    "with open('../input/word_freq_bpe.csv', 'w', encoding='utf-8') as fw:\n",
    "    for k,v in sorted(words.items(), key=lambda x:(x[1], len(x[0])), reverse=True):\n",
    "        fw.write('{} {}\\n'.format(k, v))"
   ]
  },
  {
   "cell_type": "code",
   "execution_count": 30,
   "metadata": {},
   "outputs": [],
   "source": [
    "import re,string\n",
    "\n",
    "words=dict()\n",
    "with open('../input/word_freq.csv', 'r', encoding='utf-8') as f, open('../input/word_freq_sub.csv', 'w', encoding='utf-8') as fw:\n",
    "    for line in f:\n",
    "        line= line.split()\n",
    "        words[line[0]] = int(line[1])\n",
    "    big_words = {k:v for k, v in words.items() if v>10}\n",
    "    small_words = {k:v for k, v in words.items() if v<=10}\n",
    "    for k,v in small_words.items():\n",
    "        for t in re.split(f'[{string.punctuation}]', k):\n",
    "            big_words[t] = big_words.get(t, 0) + v\n",
    "    for k,v in sorted(big_words.items(), key=lambda x:(x[1], len(x[0])), reverse=True):\n",
    "        fw.write('{} {}\\n'.format(k, v))\n",
    "        "
   ]
  }
 ],
 "metadata": {
  "kernelspec": {
   "display_name": "Python 3",
   "language": "python",
   "name": "python3"
  },
  "language_info": {
   "codemirror_mode": {
    "name": "ipython",
    "version": 3
   },
   "file_extension": ".py",
   "mimetype": "text/x-python",
   "name": "python",
   "nbconvert_exporter": "python",
   "pygments_lexer": "ipython3",
   "version": "3.6.3"
  }
 },
 "nbformat": 4,
 "nbformat_minor": 2
}
