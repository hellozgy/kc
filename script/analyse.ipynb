{
 "cells": [
  {
   "cell_type": "code",
   "execution_count": 32,
   "metadata": {
    "collapsed": true
   },
   "outputs": [],
   "source": [
    "# 统计词频\n",
    "def statis(src, words):\n",
    "    with open(src, 'r', encoding='utf-8') as f:\n",
    "        for line in f:\n",
    "            for word in line.lower().split():\n",
    "                words[word] = words.get(word, 0) + 1\n",
    "    return words\n",
    "words = dict()\n",
    "words = statis('../input/train_data_bpe.csv', words)\n",
    "words = statis('../input/test_data_bpe.csv', words)\n",
    "with open('../input/word_freq_bpe.csv', 'w', encoding='utf-8') as fw:\n",
    "    for k,v in sorted(words.items(), key=lambda x:(x[1], len(x[0])), reverse=True):\n",
    "        fw.write('{} {}\\n'.format(k, v))"
   ]
  },
  {
   "cell_type": "code",
   "execution_count": 2,
   "metadata": {},
   "outputs": [
    {
     "name": "stdout",
     "output_type": "stream",
     "text": [
      "305\n"
     ]
    }
   ],
   "source": [
    "import pandas as pd\n",
    "\n",
    "train = '../input/train.csv'\n",
    "train = pd.read_csv(train)\n",
    "print(train['threat'].sum())\n",
    "        "
   ]
  }
 ],
 "metadata": {
  "kernelspec": {
   "display_name": "Python 3",
   "language": "python",
   "name": "python3"
  },
  "language_info": {
   "codemirror_mode": {
    "name": "ipython",
    "version": 3
   },
   "file_extension": ".py",
   "mimetype": "text/x-python",
   "name": "python",
   "nbconvert_exporter": "python",
   "pygments_lexer": "ipython3",
   "version": "3.6.3"
  }
 },
 "nbformat": 4,
 "nbformat_minor": 2
}
