{
 "cells": [
  {
   "cell_type": "code",
   "execution_count": 37,
   "metadata": {
    "collapsed": true
   },
   "outputs": [],
   "source": [
    "# 统计词频\n",
    "def statis(src, words):\n",
    "    with open(src, 'r', encoding='utf-8') as f:\n",
    "        for line in f:\n",
    "            for word in line.lower().split():\n",
    "                words[word] = words.get(word, 0) + 1\n",
    "    return words\n",
    "words = dict()\n",
    "words = statis('../input/train_data_bpe.csv', words)\n",
    "words = statis('../input/test_data_bpe.csv', words)\n",
    "with open('../input/word_freq_bpe.csv', 'w', encoding='utf-8') as fw:\n",
    "    for k,v in sorted(words.items(), key=lambda x:(x[1], len(x[0])), reverse=True):\n",
    "        fw.write('{} {}\\n'.format(k, v))"
   ]
  },
  {
   "cell_type": "code",
   "execution_count": 62,
   "metadata": {},
   "outputs": [
    {
     "name": "stdout",
     "output_type": "stream",
     "text": [
      "               toxic   severe_toxic        obscene         threat  \\\n",
      "count  159571.000000  159571.000000  159571.000000  159571.000000   \n",
      "mean        0.095844       0.009996       0.052948       0.002996   \n",
      "std         0.294379       0.099477       0.223931       0.054650   \n",
      "min         0.000000       0.000000       0.000000       0.000000   \n",
      "25%         0.000000       0.000000       0.000000       0.000000   \n",
      "50%         0.000000       0.000000       0.000000       0.000000   \n",
      "75%         0.000000       0.000000       0.000000       0.000000   \n",
      "max         1.000000       1.000000       1.000000       1.000000   \n",
      "\n",
      "              insult  identity_hate  \n",
      "count  159571.000000  159571.000000  \n",
      "mean        0.049364       0.008805  \n",
      "std         0.216627       0.093420  \n",
      "min         0.000000       0.000000  \n",
      "25%         0.000000       0.000000  \n",
      "50%         0.000000       0.000000  \n",
      "75%         0.000000       0.000000  \n",
      "max         1.000000       1.000000  \n"
     ]
    }
   ],
   "source": [
    "import pandas as pd\n",
    "\n",
    "df = pd.read_csv('../input/train.csv')\n",
    "print(df.describe())"
   ]
  },
  {
   "cell_type": "code",
   "execution_count": 39,
   "metadata": {},
   "outputs": [
    {
     "name": "stdout",
     "output_type": "stream",
     "text": [
      "312405\n",
      "4.91891615051\n",
      "3.7140414666\n"
     ]
    },
    {
     "data": {
      "image/png": "[encoded data removed]",
      "text/plain": [
       "<matplotlib.figure.Figure at 0x160e79b0>"
      ]
     },
     "metadata": {},
     "output_type": "display_data"
    }
   ],
   "source": [
    "import re,os\n",
    "import numpy as np\n",
    "import pylab as pl\n",
    "# 统计句子数分布\n",
    "os.system('rm ../input/long.csv')\n",
    "def statis(src, sents):\n",
    "    with open(src, 'r', encoding='utf-8') as f, open('../input/long.csv', 'a', encoding='utf-8') as fw:\n",
    "        for num, line in enumerate(f):\n",
    "            leng = len(re.split('[,.?!]', line))\n",
    "            if leng<=15:\n",
    "                sents.append(leng)\n",
    "            else:\n",
    "                leng = len(re.split('[.?!]', line))\n",
    "                if leng<=15:\n",
    "                    sents.append(leng)\n",
    "                else:\n",
    "                    leng = len(re.split('[?!]', line))\n",
    "                    if leng<=15:\n",
    "                        sents.append(leng)\n",
    "                    else:\n",
    "                        fw.write(line.strip()+'\\n')\n",
    "    return sents\n",
    "sents = []\n",
    "sents = statis('../input/train_data_bpe.csv', sents)\n",
    "sents = statis('../input/test_data_bpe.csv', sents)\n",
    "s = np.asarray(sents)\n",
    "print(len(s))\n",
    "print(np.mean(s))\n",
    "print(np.std(s))\n",
    "pl.hist(s)\n",
    "pl.show()"
   ]
  },
  {
   "cell_type": "code",
   "execution_count": 13,
   "metadata": {
    "collapsed": true
   },
   "outputs": [],
   "source": [
    "# 查看数据\n",
    "train_data = '../input/train_data.csv'\n",
    "train_label = '../input/train_label.csv'\n",
    "def f(fname):\n",
    "    with open(fname, 'r', encoding='utf-8') as f:\n",
    "        res = []\n",
    "        for line in f:\n",
    "            res.append(line.strip())\n",
    "        return res\n",
    "datas = f(train_data)\n",
    "labels = f(train_label)\n",
    "labels = [t.split(',')[1:] for t in labels]\n",
    "\n",
    "tmp = '../input/tmp.csv'\n",
    "def ff(datas, labels, yes, no, tofile):\n",
    "    with open(tmp, 'w', encoding='utf-8') as fw:\n",
    "        for d, label in zip(datas, labels): \n",
    "            if label[yes]=='1' and label[no]=='0':\n",
    "                fw.write(d+'\\n')\n",
    "ff(datas, labels, 5, 0, tmp)\n",
    "                    "
   ]
  },
  {
   "cell_type": "code",
   "execution_count": 22,
   "metadata": {
    "collapsed": true
   },
   "outputs": [],
   "source": [
    "# 得到脏字表\n",
    "def f(fname):\n",
    "    res = []\n",
    "    with open(fname, 'r', encoding='utf-8') as file:\n",
    "        for line in file:\n",
    "              res.append(line.strip().lower())  \n",
    "    return res\n",
    "base_dir = '../outdata/dict/'\n",
    "res = set()\n",
    "t = f(base_dir + 'badwords.txt')\n",
    "for tt in t:\n",
    "    for ss in tt.split(','):\n",
    "        res.add(ss.strip())\n",
    "t = f(base_dir + 'full-list-of-bad-words-banned-by-google-txt-file_2013_11_26_04_53_31_867.txt')\n",
    "for tt in t:\n",
    "    res.add(tt.replace('牋?', ''))\n",
    "t = f(base_dir + 'google_twunter_lol')\n",
    "res.update(t)\n",
    "t = f(base_dir + 'swearWords.txt')\n",
    "res.update(t)\n",
    "t = f(base_dir+'Terms-to-Block.csv')\n",
    "for tt in t:\n",
    "    res.add(tt.replace(',\"', ''))\n",
    "\n",
    "res2 = set()\n",
    "for t in res:\n",
    "    res2.add(t)\n",
    "    res2.add(t.replace(' ', ''))\n",
    "res = res2\n",
    "res = list(res)\n",
    "res.sort()\n",
    "\n",
    "with open('../input/badword.txt', 'w', encoding='utf-8') as fw:\n",
    "    for w in res:\n",
    "        fw.write(w+'\\n')"
   ]
  },
  {
   "cell_type": "code",
   "execution_count": 40,
   "metadata": {
    "collapsed": true
   },
   "outputs": [],
   "source": [
    "import numpy as np\n",
    "import os\n",
    "# 处理外部数据\n",
    "tmp = '../input/tmp.csv'\n",
    "rate = (0.932335,0.174051,0.781389,0.038974, 1.0,0.147264)\n",
    "def fwrite(fname, data):\n",
    "    with open(fname, 'w', encoding='utf-8') as fw:\n",
    "        for line in data:\n",
    "            fw.write(line+'\\n')\n",
    "\n",
    "def solve1(data_files, label_files):\n",
    "    '''处理比赛举办方的数据'''\n",
    "    res = []\n",
    "    for dfile,lfile in zip(data_files, label_files):\n",
    "        labels = {}\n",
    "        with open(lfile, 'r', encoding='utf-8') as f:\n",
    "            first = True\n",
    "            for label in f:\n",
    "                if first:\n",
    "                    first = False\n",
    "                    continue\n",
    "                label = label.strip().split('\\t')\n",
    "                if label[0] in labels:labels[label[0]].append(float(label[-1]))\n",
    "                else:labels[label[0]] = [float(label[-1])]\n",
    "        with open(dfile, 'r', encoding='utf-8') as f:\n",
    "            first = True\n",
    "            for data in f:\n",
    "                if first:\n",
    "                    first = False\n",
    "                    continue\n",
    "                data = data.strip().split('\\t')\n",
    "                if data[0] in labels:\n",
    "                    d = data[1]\n",
    "                    d = d.replace('NEWLINE_TOKENNEWLINE_TOKEN', ' ').replace('NEWLINE_TOKEN',' ').strip()\n",
    "                    label = np.mean(labels[data[0]])\n",
    "                    label = ','.join([str(int(t*label*100)/100) for t in rate])\n",
    "                    res.append([label, d])\n",
    "    return res\n",
    "res = solve1(['../outdata/4054689/attack_annotated_comments.tsv', '../outdata/4563973/toxicity_annotated_comments.tsv'], \n",
    "        ['../outdata/4054689/attack_annotations.tsv','../outdata/4563973/toxicity_annotations.tsv'])\n",
    "\n",
    "# def scv1(path, label):\n",
    "#     res = []\n",
    "#     label = ','.join([str(int(t*label*100)/100) for t in rate])\n",
    "#     for file in os.listdir(path):\n",
    "#         with open(path+file, 'r', encoding='utf-8') as f:\n",
    "#             line = f.readline().strip()\n",
    "#             res.append([label, line])\n",
    "#     return res\n",
    "# t = scv1('../input/outdata/data-sarc-sample/notsarc/', 0)\n",
    "# res.extend(t)\n",
    "# t = scv1('../input/outdata/data-sarc-sample/sarc/', 1)\n",
    "# res.extend(t)\n",
    "\n",
    "'''kaggle insult'''\n",
    "\n"
   ]
  },
  {
   "cell_type": "code",
   "execution_count": 102,
   "metadata": {},
   "outputs": [
    {
     "name": "stdout",
     "output_type": "stream",
     "text": [
      "275550\n",
      "284379\n",
      "204080\n"
     ]
    }
   ],
   "source": [
    "import pandas as pd\n",
    "import csv,re\n",
    "\n",
    "'''\n",
    "外部数据\n",
    "'''\n",
    "\n",
    "# 比赛主办方官方数据1\n",
    "datas=pd.read_csv('../outdata/4054689/attack_annotated_comments.tsv', sep = '\\t')\n",
    "datas = datas.loc[:,['rev_id','comment']]\n",
    "labels = pd.read_csv('../outdata/4054689/attack_annotations.tsv', sep = '\\t')\n",
    "labels = labels.loc[:,['rev_id','attack']]\n",
    "labels = labels.groupby(['rev_id']).mean().reset_index()\n",
    "mdatas = pd.merge(datas, labels, on=['rev_id'])\n",
    "mdatas.rename(columns={'attack':'insult'}, inplace = True)\n",
    "res = mdatas\n",
    "\n",
    "datas=pd.read_csv('../outdata/4563973/toxicity_annotated_comments.tsv', sep = '\\t')\n",
    "datas = datas.loc[:,['rev_id','comment']]\n",
    "labels = pd.read_csv('../outdata/4563973/toxicity_annotations.tsv', sep = '\\t')\n",
    "labels = labels.loc[:,['rev_id','toxicity']]\n",
    "labels = labels.groupby(['rev_id']).mean().reset_index()\n",
    "mdatas = pd.merge(datas, labels, on=['rev_id'])\n",
    "mdatas.rename(columns={'toxicity':'insult'}, inplace = True)\n",
    "res = pd.concat([res, mdatas])\n",
    "res['comment']=res['comment'].apply(lambda x:x.replace('NEWLINE_TOKEN',' ').replace('TAB_TOKEN', ' '))\n",
    "del res['rev_id']\n",
    "print(len(res))\n",
    "\n",
    "#kaggle insult\n",
    "datas=pd.read_csv('../outdata/kaglge insult/impermium_verification_labels.csv', sep = ',')\n",
    "datas = datas.loc[:,['Insult','Comment']]\n",
    "datas.rename(columns={'Insult':'insult', 'Comment':'comment'}, inplace = True)\n",
    "res = pd.concat([res, datas])\n",
    "\n",
    "datas=pd.read_csv('../outdata/kaglge insult/test_with_solutions.csv', sep = ',')\n",
    "datas = datas.loc[:,['Insult','Comment']]\n",
    "datas.rename(columns={'Insult':'insult', 'Comment':'comment'}, inplace = True)\n",
    "res = pd.concat([res, datas])\n",
    "\n",
    "datas=pd.read_csv('../outdata/kaglge insult/train.csv', sep = ',')\n",
    "datas = datas.loc[:,['Insult','Comment']]\n",
    "datas.rename(columns={'Insult':'insult', 'Comment':'comment'}, inplace = True)\n",
    "res = pd.concat([res, datas])\n",
    "res['comment']=res['comment'].apply(lambda x:x.replace(\"\\\\n\",\" \").replace(\"\\\\t\",\" \").replace(\"\\\\xa0\",\" \").replace(\"\\\\xc2\",\" \")\n",
    "                                   .replace('\\n', ' ').replace('\\\\x80', ' ').replace('\\\\xe2',' ').replace('\\xa0',' ').replace('\\ ',' ')\n",
    "                                   .replace('==',' ').strip().lower())\n",
    "res['comment']=res['comment'].apply(lambda x:re.sub('\\\\s+',' ',x))\n",
    "res['comment']=res['comment'].fillna('unknown', inplace=True)\n",
    "print(len(res))\n",
    "res = res.groupby(['comment']).mean().reset_index()\n",
    "print(len(res))\n",
    "rate = (0.932335,0.174051,0.781389,0.038974, 1.0,0.147264)\n",
    "res['insult'] = res['insult'].apply(lambda x:','.join([str(int(x*t*100)/100) for t in rate]))\n",
    "res['insult'].to_frame().to_csv('../input/outdata_label.csv', header=False, index=False, encoding='utf-8', quotechar=' ')\n",
    "res['comment'].to_frame().to_csv('../input/outdata_oneline.csv', header=False, index=False, encoding='utf-8')"
   ]
  },
  {
   "cell_type": "code",
   "execution_count": 42,
   "metadata": {},
   "outputs": [
    {
     "name": "stdout",
     "output_type": "stream",
     "text": [
      "               toxic   severe_toxic        obscene         threat  \\\n",
      "count  159571.000000  159571.000000  159571.000000  159571.000000   \n",
      "mean        0.095844       0.009996       0.052948       0.002996   \n",
      "std         0.294379       0.099477       0.223931       0.054650   \n",
      "min         0.000000       0.000000       0.000000       0.000000   \n",
      "25%         0.000000       0.000000       0.000000       0.000000   \n",
      "50%         0.000000       0.000000       0.000000       0.000000   \n",
      "75%         0.000000       0.000000       0.000000       0.000000   \n",
      "max         1.000000       1.000000       1.000000       1.000000   \n",
      "\n",
      "              insult  identity_hate  \n",
      "count  159571.000000  159571.000000  \n",
      "mean        0.049364       0.008805  \n",
      "std         0.216627       0.093420  \n",
      "min         0.000000       0.000000  \n",
      "25%         0.000000       0.000000  \n",
      "50%         0.000000       0.000000  \n",
      "75%         0.000000       0.000000  \n",
      "max         1.000000       1.000000  \n"
     ]
    }
   ],
   "source": [
    "import pandas as pd\n",
    "\n",
    "df = pd.read_csv('../input/train.csv')\n",
    "#df=df.loc[df[\"insult\"] == 1]\n",
    "print(df.describe())"
   ]
  },
  {
   "cell_type": "code",
   "execution_count": 107,
   "metadata": {},
   "outputs": [
    {
     "name": "stdout",
     "output_type": "stream",
     "text": [
      "111542\n"
     ]
    }
   ],
   "source": [
    "train=set()\n",
    "with open('../input/train_data.csv','r',encoding='utf-8') as f:\n",
    "    for line in f:\n",
    "        train.add(line.strip())\n",
    "outdatas = []\n",
    "outdatas_bpe = []\n",
    "outdatas_labels = []\n",
    "with  open('../input/outdata_data.csv', 'r', encoding='utf-8') as datas,\\\n",
    "        open('../input/outdata_data_bpe.csv','r',encoding='utf-8') as datas_bpe,\\\n",
    "        open('../input/outdata_label.csv','r',encoding='utf-8') as labels:\n",
    "    for data,data_bpe,label in zip(datas, datas_bpe,labels):\n",
    "        data = data.strip()\n",
    "        data_bpe = data_bpe.strip()\n",
    "        label = lable.strip()\n",
    "        if data!='unknown' and data not in train:\n",
    "            outdatas.append(data)\n",
    "            outdatas_bpe.append(data_bpe)\n",
    "            outdatas_labels.append(label)\n",
    "with  open('../input/outdata_data2.csv', 'w', encoding='utf-8') as datas, \\\n",
    "        open('../input/outdata_data_bpe2.csv','w',encoding='utf-8') as datas_bpe, \\\n",
    "        open('../input/outdata_label2.csv','w',encoding='utf-8') as labels:\n",
    "    for data,data_bpe,label in zip(outdatas, outdatas_bpe, outdatas_labels):\n",
    "        datas.write(data+'\\n')\n",
    "        datas_bpe.write(data_bpe+'\\n')\n",
    "        labels.write(label+'\\n')"
   ]
  }
 ],
 "metadata": {
  "kernelspec": {
   "display_name": "Python 3",
   "language": "python",
   "name": "python3"
  },
  "language_info": {
   "codemirror_mode": {
    "name": "ipython",
    "version": 3
   },
   "file_extension": ".py",
   "mimetype": "text/x-python",
   "name": "python",
   "nbconvert_exporter": "python",
   "pygments_lexer": "ipython3",
   "version": "3.6.3"
  }
 },
 "nbformat": 4,
 "nbformat_minor": 2
}
